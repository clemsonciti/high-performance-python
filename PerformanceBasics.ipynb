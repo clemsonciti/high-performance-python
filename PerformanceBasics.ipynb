{
 "cells": [
  {
   "cell_type": "markdown",
   "metadata": {},
   "source": [
    "## Key points\n",
    "\n",
    "1. Data is stored in memory in a linear fashion\n",
    "1. `A numpy.ndarray` is a versatile object that can be used to store and process various kinds of numeric data efficiently\n",
    "1. Python lists are slower and more difficult to work with than `ndarray` for numerical work"
   ]
  },
  {
   "cell_type": "markdown",
   "metadata": {},
   "source": [
    "## Computing the mean efficiently"
   ]
  },
  {
   "cell_type": "markdown",
   "metadata": {},
   "source": [
    "As a simple first example, we will consider the problem of computing the average (or *mean*) of a collection of random numbers between 0 and 1 (e.g., `0.241`, `0.429`, `0.012`). To generate these numbers, we can use the function `random.random`:"
   ]
  },
  {
   "cell_type": "code",
   "execution_count": 6,
   "metadata": {},
   "outputs": [
    {
     "data": {
      "text/plain": [
       "0.46284729488486553"
      ]
     },
     "execution_count": 6,
     "metadata": {},
     "output_type": "execute_result"
    }
   ],
   "source": [
    "import random\n",
    "random.random()"
   ]
  },
  {
   "cell_type": "markdown",
   "metadata": {},
   "source": [
    "Now that we know to generate a single random number, we can construct a simple `for` loop to generate a `list` of them:"
   ]
  },
  {
   "cell_type": "code",
   "execution_count": 48,
   "metadata": {},
   "outputs": [],
   "source": [
    "N = 100\n",
    "data = []\n",
    "for i in range(N):\n",
    "    data.append(random.random())"
   ]
  },
  {
   "cell_type": "code",
   "execution_count": 51,
   "metadata": {},
   "outputs": [
    {
     "name": "stdout",
     "output_type": "stream",
     "text": [
      "[0.23534029388323263, 0.2512830314067692, 0.2735303484717052, 0.18963695918767165, 0.6744353068402732, 0.8915058106321414, 0.5339676520138728, 0.10608903391678681, 0.8577010029444818, 0.2066981578170951, 0.2894081994229112, 0.5352551873196615, 0.8136032490658739, 0.6987560545396956, 0.58982886385295, 0.6156873234190439, 0.05437231312947799, 0.07872863090926374, 0.7013832991630957, 0.7481294446268315, 0.6210270285145206, 0.9288247708077876, 0.8442902511630704, 0.6721149693261215, 0.6233513554372632, 0.24280250707636886, 0.5524249260623049, 0.5387181844492188, 0.0675918158287383, 0.3433498896920838, 0.6679989643120914, 0.19073853527035445, 0.909096409992837, 0.8451816757611608, 0.8887406325227667, 0.8278399798161655, 0.5395083202077453, 0.5656483393374391, 0.8159977737934211, 0.8384802064328517, 0.4847958642491441, 0.7214511504534955, 0.9283875350873286, 0.8362140738690768, 0.25869471225574314, 0.8093466839982717, 0.1169236060553217, 0.6375750601989424, 0.15984810045610154, 0.5588762565434224, 0.638286654849229, 0.8501621281822608, 0.4261594663196665, 0.16181780147536484, 0.921684841017734, 0.1405609004847973, 0.5006992823805035, 0.24196953722698944, 0.3372944965462332, 0.4563454822806067, 0.481892898730519, 0.7370028567532794, 0.028561288280044672, 0.8610236620775287, 0.8780622431700562, 0.5167325327241283, 0.17776483507455776, 0.17180365056695068, 0.10606314841772602, 0.4376634872583046, 0.7907854120823754, 0.3954388728696281, 0.655405264444062, 0.2960494931021548, 0.5458289648722431, 0.6236276555495823, 0.8302412430662361, 0.6697082985490181, 0.6285465329386423, 0.5516867935491748, 0.03768415854348928, 0.29270087268396117, 0.23330663001362806, 0.7965132805948014, 0.07589879675294187, 0.2709272336547035, 0.03987003540388423, 0.8362774309250459, 0.6554338508552916, 0.5138228972077322, 0.26999457773233315, 0.5022923036205187, 0.9742950474429954, 0.3693218193403799, 0.9462239556576966, 0.14655931199108874, 0.4271537697023672, 0.4517014159339261, 0.0012229142232441648, 0.7932122505690135]\n"
     ]
    }
   ],
   "source": [
    "print(data)"
   ]
  },
  {
   "cell_type": "markdown",
   "metadata": {},
   "source": [
    "A simple method for computing the average of a list of numbers is as follows:"
   ]
  },
  {
   "cell_type": "code",
   "execution_count": 54,
   "metadata": {},
   "outputs": [],
   "source": [
    "data_sum = 0\n",
    "for num in data:\n",
    "    data_sum += num\n",
    "data_mean = data_sum/N"
   ]
  },
  {
   "cell_type": "code",
   "execution_count": 55,
   "metadata": {},
   "outputs": [
    {
     "name": "stdout",
     "output_type": "stream",
     "text": [
      "0.5107446201922261\n"
     ]
    }
   ],
   "source": [
    "print(data_mean)"
   ]
  },
  {
   "cell_type": "markdown",
   "metadata": {},
   "source": [
    "## Exercise 1\n",
    "\n",
    "### Writing a `mean` function\n",
    "\n",
    "Using the loop above, write a function called `mean`, which accepts a single input called `data` (expected to be a `list`), and returns the average of the values in `data`. For example, your function should behave as follows:\n",
    "\n",
    "```.python\n",
    "test_data = [0, 0.5, 0.1]\n",
    "print(mean(test_data))\n",
    "```\n",
    "\n",
    "```.output\n",
    "0.19999999999999998\n",
    "```\n",
    "\n",
    "    "
   ]
  },
  {
   "cell_type": "code",
   "execution_count": null,
   "metadata": {
    "collapsed": true
   },
   "outputs": [],
   "source": [
    "# %load solution_1.py"
   ]
  },
  {
   "cell_type": "code",
   "execution_count": 56,
   "metadata": {},
   "outputs": [
    {
     "name": "stdout",
     "output_type": "stream",
     "text": [
      "0.19999999999999998\n"
     ]
    }
   ],
   "source": [
    "test_data = [0, 0.5, 0.1]\n",
    "print(mean(test_data))"
   ]
  },
  {
   "cell_type": "markdown",
   "metadata": {},
   "source": [
    "Let's now time our `mean` function for a few different data sizes:"
   ]
  },
  {
   "cell_type": "code",
   "execution_count": 59,
   "metadata": {},
   "outputs": [
    {
     "name": "stdout",
     "output_type": "stream",
     "text": [
      "CPU times: user 0 ns, sys: 0 ns, total: 0 ns\n",
      "Wall time: 10.7 µs\n"
     ]
    }
   ],
   "source": [
    "%timeit mean()"
   ]
  },
  {
   "cell_type": "code",
   "execution_count": 37,
   "metadata": {
    "collapsed": true
   },
   "outputs": [],
   "source": [
    "import numpy as np"
   ]
  },
  {
   "cell_type": "code",
   "execution_count": 38,
   "metadata": {},
   "outputs": [
    {
     "data": {
      "text/plain": [
       "0.55299919997144653"
      ]
     },
     "execution_count": 38,
     "metadata": {},
     "output_type": "execute_result"
    }
   ],
   "source": [
    "np.mean(data)"
   ]
  },
  {
   "cell_type": "code",
   "execution_count": 40,
   "metadata": {},
   "outputs": [
    {
     "name": "stdout",
     "output_type": "stream",
     "text": [
      "0.5529991999714464\n"
     ]
    }
   ],
   "source": [
    "print(mean(data))"
   ]
  },
  {
   "cell_type": "code",
   "execution_count": 41,
   "metadata": {},
   "outputs": [
    {
     "name": "stdout",
     "output_type": "stream",
     "text": [
      "0.552999199971\n"
     ]
    }
   ],
   "source": [
    "print(np.mean(data))"
   ]
  },
  {
   "cell_type": "code",
   "execution_count": 42,
   "metadata": {},
   "outputs": [
    {
     "name": "stdout",
     "output_type": "stream",
     "text": [
      "9.02 µs ± 125 ns per loop (mean ± std. dev. of 7 runs, 100000 loops each)\n"
     ]
    }
   ],
   "source": [
    "%timeit mean(data)"
   ]
  },
  {
   "cell_type": "code",
   "execution_count": 43,
   "metadata": {},
   "outputs": [
    {
     "name": "stdout",
     "output_type": "stream",
     "text": [
      "33.9 µs ± 131 ns per loop (mean ± std. dev. of 7 runs, 10000 loops each)\n"
     ]
    }
   ],
   "source": [
    "%timeit np.mean(data)"
   ]
  },
  {
   "cell_type": "code",
   "execution_count": 44,
   "metadata": {
    "collapsed": true
   },
   "outputs": [],
   "source": [
    "N = 100000\n",
    "data = np.random.rand(N)"
   ]
  },
  {
   "cell_type": "code",
   "execution_count": 45,
   "metadata": {},
   "outputs": [
    {
     "name": "stdout",
     "output_type": "stream",
     "text": [
      "28.8 ms ± 6.4 µs per loop (mean ± std. dev. of 7 runs, 10 loops each)\n"
     ]
    }
   ],
   "source": [
    "%timeit mean(data)"
   ]
  },
  {
   "cell_type": "code",
   "execution_count": 46,
   "metadata": {},
   "outputs": [
    {
     "name": "stdout",
     "output_type": "stream",
     "text": [
      "131 µs ± 167 ns per loop (mean ± std. dev. of 7 runs, 10000 loops each)\n"
     ]
    }
   ],
   "source": [
    "%timeit np.mean(data)"
   ]
  },
  {
   "cell_type": "code",
   "execution_count": null,
   "metadata": {
    "collapsed": true
   },
   "outputs": [],
   "source": []
  }
 ],
 "metadata": {
  "kernelspec": {
   "display_name": "Python 3",
   "language": "python",
   "name": "python3"
  },
  "language_info": {
   "codemirror_mode": {
    "name": "ipython",
    "version": 3
   },
   "file_extension": ".py",
   "mimetype": "text/x-python",
   "name": "python",
   "nbconvert_exporter": "python",
   "pygments_lexer": "ipython3",
   "version": "3.5.3"
  }
 },
 "nbformat": 4,
 "nbformat_minor": 2
}
