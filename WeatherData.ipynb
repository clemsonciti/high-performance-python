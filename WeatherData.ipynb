{
 "cells": [
  {
   "cell_type": "markdown",
   "metadata": {},
   "source": [
    "## Keypoints\n",
    "\n",
    "* HDF5 is a fast format for storing numerical data\n",
    "* Dask lets you do larger-than-memory computations\n",
    "* The abstraction dask.array is much like a numpy.array"
   ]
  },
  {
   "cell_type": "code",
   "execution_count": 1,
   "metadata": {
    "collapsed": true
   },
   "outputs": [],
   "source": [
    "import numpy as np\n",
    "import h5py\n",
    "import dask.array as da\n",
    "import glob\n",
    "import timeit"
   ]
  },
  {
   "cell_type": "code",
   "execution_count": 2,
   "metadata": {
    "collapsed": true
   },
   "outputs": [],
   "source": [
    "import matplotlib.pyplot as plt"
   ]
  },
  {
   "cell_type": "code",
   "execution_count": 2,
   "metadata": {
    "collapsed": true
   },
   "outputs": [],
   "source": [
    "%matplotlib inline"
   ]
  },
  {
   "cell_type": "code",
   "execution_count": 3,
   "metadata": {},
   "outputs": [
    {
     "name": "stdout",
     "output_type": "stream",
     "text": [
      "8.2G\tdata/weather-big/2014-01-01.hdf5\r\n",
      "8.2G\tdata/weather-big/2014-01-02.hdf5\r\n",
      "8.2G\tdata/weather-big/2014-01-03.hdf5\r\n",
      "8.2G\tdata/weather-big/2014-01-04.hdf5\r\n",
      "8.2G\tdata/weather-big/2014-01-05.hdf5\r\n",
      "8.2G\tdata/weather-big/2014-01-06.hdf5\r\n",
      "8.2G\tdata/weather-big/2014-01-07.hdf5\r\n"
     ]
    }
   ],
   "source": [
    "!du -h data/weather-big/*"
   ]
  },
  {
   "cell_type": "code",
   "execution_count": 4,
   "metadata": {},
   "outputs": [
    {
     "name": "stdout",
     "output_type": "stream",
     "text": [
      "1.6M\tdata/weather-small/2014-01-01.csv\r\n"
     ]
    }
   ],
   "source": [
    "!du -h data/weather-small/2014-01-01.csv"
   ]
  },
  {
   "cell_type": "code",
   "execution_count": 5,
   "metadata": {},
   "outputs": [
    {
     "name": "stdout",
     "output_type": "stream",
     "text": [
      "84K\tdata/weather-small/2014-01-01.hdf5\r\n"
     ]
    }
   ],
   "source": [
    "!du -h data/weather-small/2014-01-01.hdf5"
   ]
  },
  {
   "cell_type": "code",
   "execution_count": 6,
   "metadata": {},
   "outputs": [
    {
     "name": "stdout",
     "output_type": "stream",
     "text": [
      "59.2 ms ± 1.64 ms per loop (mean ± std. dev. of 7 runs, 10 loops each)\n"
     ]
    }
   ],
   "source": [
    "%timeit temps = np.loadtxt('data/weather-small/2014-01-01.csv', delimiter=',')"
   ]
  },
  {
   "cell_type": "code",
   "execution_count": 7,
   "metadata": {},
   "outputs": [
    {
     "name": "stdout",
     "output_type": "stream",
     "text": [
      "2.05 ms ± 153 µs per loop (mean ± std. dev. of 7 runs, 100 loops each)\n"
     ]
    }
   ],
   "source": [
    "%timeit temps = h5py.File('data/weather-small/2014-01-02.hdf5')['/t2m'][...]"
   ]
  },
  {
   "cell_type": "code",
   "execution_count": 27,
   "metadata": {
    "collapsed": true
   },
   "outputs": [],
   "source": [
    "dset = h5py.File('data/weather-big/2014-01-01.hdf5')['/t2m']"
   ]
  },
  {
   "cell_type": "code",
   "execution_count": 28,
   "metadata": {},
   "outputs": [
    {
     "name": "stdout",
     "output_type": "stream",
     "text": [
      "<HDF5 dataset \"t2m\": shape (23040, 46080), type \"<f8\">\n"
     ]
    }
   ],
   "source": [
    "print(dset)"
   ]
  },
  {
   "cell_type": "code",
   "execution_count": 32,
   "metadata": {
    "collapsed": true
   },
   "outputs": [],
   "source": [
    "temps = dset[...] # gets numpy array from HDF5 dataset"
   ]
  },
  {
   "cell_type": "code",
   "execution_count": 31,
   "metadata": {},
   "outputs": [
    {
     "data": {
      "text/plain": [
       "(23040, 46080)"
      ]
     },
     "execution_count": 31,
     "metadata": {},
     "output_type": "execute_result"
    }
   ],
   "source": [
    "temps.shape"
   ]
  },
  {
   "cell_type": "code",
   "execution_count": 13,
   "metadata": {},
   "outputs": [
    {
     "name": "stdout",
     "output_type": "stream",
     "text": [
      "[[ 81.  81.  81. ...,  81.  81.  81.]\n",
      " [ 81.  81.  81. ...,  81.  81.  81.]\n",
      " [ 81.  81.  81. ...,  81.  81.  81.]\n",
      " ..., \n",
      " [ 83.  83.  83. ...,  83.  83.  83.]\n",
      " [ 83.  83.  83. ...,  83.  83.  83.]\n",
      " [ 83.  83.  83. ...,  83.  83.  83.]]\n"
     ]
    }
   ],
   "source": [
    "print(temps)"
   ]
  },
  {
   "cell_type": "markdown",
   "metadata": {},
   "source": [
    "Next line takes a couple of minute to run"
   ]
  },
  {
   "cell_type": "code",
   "execution_count": null,
   "metadata": {
    "collapsed": true
   },
   "outputs": [],
   "source": [
    "#plt.imshow(temps)\n",
    "#plt.colorbar()"
   ]
  },
  {
   "cell_type": "markdown",
   "metadata": {},
   "source": [
    "We can get away with plotting a smaller array:"
   ]
  },
  {
   "cell_type": "code",
   "execution_count": null,
   "metadata": {
    "collapsed": true
   },
   "outputs": [],
   "source": [
    "plt.imshow(temps[::100, ::100])\n",
    "plt.colorbar()"
   ]
  },
  {
   "cell_type": "markdown",
   "metadata": {},
   "source": [
    "What if we wanted the mean across all days?"
   ]
  },
  {
   "cell_type": "code",
   "execution_count": 50,
   "metadata": {},
   "outputs": [
    {
     "name": "stdout",
     "output_type": "stream",
     "text": [
      "data/weather-big/2014-01-06.hdf5\n",
      "data/weather-big/2014-01-02.hdf5\n",
      "data/weather-big/2014-01-01.hdf5\n",
      "data/weather-big/2014-01-04.hdf5\n",
      "data/weather-big/2014-01-03.hdf5\n",
      "data/weather-big/2014-01-07.hdf5\n",
      "data/weather-big/2014-01-05.hdf5\n",
      "171381091767.0\n"
     ]
    }
   ],
   "source": [
    "file_list = glob.glob('data/weather-big/*.hdf5')\n",
    "\n",
    "t1 = timeit.default_timer()\n",
    "temp_mean = 0\n",
    "for filename in file_list:\n",
    "    print(filename)\n",
    "    dset = h5py.File(filename)['/t2m']\n",
    "    temps = dset[...]\n",
    "    temp_mean += temps.sum()\n",
    "t1 = timeit.default_timer()\n",
    "print(temp_mean/len(file_list))"
   ]
  },
  {
   "cell_type": "code",
   "execution_count": 39,
   "metadata": {},
   "outputs": [
    {
     "data": {
      "text/plain": [
       "(1061683200,)"
      ]
     },
     "execution_count": 39,
     "metadata": {},
     "output_type": "execute_result"
    }
   ],
   "source": [
    "temps.ravel().shape"
   ]
  },
  {
   "cell_type": "code",
   "execution_count": 45,
   "metadata": {},
   "outputs": [
    {
     "name": "stdout",
     "output_type": "stream",
     "text": [
      "161.423946208\n"
     ]
    }
   ],
   "source": [
    "print(temp_mean/(temps.ravel().shape[0]*len(file_list)))"
   ]
  },
  {
   "cell_type": "code",
   "execution_count": 55,
   "metadata": {},
   "outputs": [
    {
     "name": "stdout",
     "output_type": "stream",
     "text": [
      "<bound method mean of dask.array<stack, shape=(7, 23040, 46080), dtype=float64, chunksize=(1, 10000, 10000)>>\n"
     ]
    }
   ],
   "source": [
    "dsets = [da.from_array(h5py.File(filename)['/t2m'], chunks=(5000, 5000)) for filename in file_list]\n",
    "temps = da.stack(dsets)\n",
    "print(temps.mean)"
   ]
  },
  {
   "cell_type": "code",
   "execution_count": 56,
   "metadata": {},
   "outputs": [
    {
     "name": "stdout",
     "output_type": "stream",
     "text": [
      "70.35648456995841\n"
     ]
    }
   ],
   "source": [
    "t1 = timeit.default_timer()\n",
    "temps.mean().compute()\n",
    "t2 = timeit.default_timer()\n",
    "print(t2-t1)"
   ]
  },
  {
   "cell_type": "code",
   "execution_count": null,
   "metadata": {
    "collapsed": true
   },
   "outputs": [],
   "source": []
  }
 ],
 "metadata": {
  "kernelspec": {
   "display_name": "Python 3",
   "language": "python",
   "name": "python3"
  },
  "language_info": {
   "codemirror_mode": {
    "name": "ipython",
    "version": 3
   },
   "file_extension": ".py",
   "mimetype": "text/x-python",
   "name": "python",
   "nbconvert_exporter": "python",
   "pygments_lexer": "ipython3",
   "version": "3.5.3"
  }
 },
 "nbformat": 4,
 "nbformat_minor": 2
}
