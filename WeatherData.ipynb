{
 "cells": [
  {
   "cell_type": "markdown",
   "metadata": {},
   "source": [
    "## Keypoints\n",
    "\n",
    "* HDF5 is a fast format for storing numerical data\n",
    "* Dask lets you do larger-than-memory computations\n",
    "* The abstraction dask.array is much like a numpy.array"
   ]
  },
  {
   "cell_type": "code",
   "execution_count": 9,
   "metadata": {},
   "outputs": [
    {
     "name": "stdout",
     "output_type": "stream",
     "text": [
      "/scratch3/atrikut\n"
     ]
    }
   ],
   "source": [
    "cd /scratch3/atrikut"
   ]
  },
  {
   "cell_type": "code",
   "execution_count": null,
   "metadata": {
    "collapsed": true
   },
   "outputs": [],
   "source": [
    "cp -r /home/atrikut/high-performance-python/data/ ."
   ]
  },
  {
   "cell_type": "code",
   "execution_count": null,
   "metadata": {
    "collapsed": true
   },
   "outputs": [],
   "source": [
    "cp /home/atrikut/high-performance-python/makeData.py ."
   ]
  },
  {
   "cell_type": "markdown",
   "metadata": {},
   "source": [
    "The following line takes several minutes (~30) to run"
   ]
  },
  {
   "cell_type": "code",
   "execution_count": null,
   "metadata": {
    "collapsed": true
   },
   "outputs": [],
   "source": [
    "!time python makeData.py"
   ]
  },
  {
   "cell_type": "code",
   "execution_count": 1,
   "metadata": {
    "collapsed": true
   },
   "outputs": [],
   "source": [
    "import numpy as np\n",
    "import h5py\n",
    "import dask.array as da\n",
    "import glob\n",
    "import timeit\n",
    "import dask\n",
    "import dask.threaded\n",
    "import timeit"
   ]
  },
  {
   "cell_type": "code",
   "execution_count": 2,
   "metadata": {},
   "outputs": [
    {
     "data": {
      "text/plain": [
       "<dask.context.set_options at 0x2b0f92cba5c0>"
      ]
     },
     "execution_count": 2,
     "metadata": {},
     "output_type": "execute_result"
    }
   ],
   "source": [
    "dask.set_options(get=dask.threaded.get)"
   ]
  },
  {
   "cell_type": "code",
   "execution_count": 14,
   "metadata": {
    "collapsed": true
   },
   "outputs": [],
   "source": [
    "import matplotlib.pyplot as plt"
   ]
  },
  {
   "cell_type": "code",
   "execution_count": 15,
   "metadata": {
    "collapsed": true
   },
   "outputs": [],
   "source": [
    "%matplotlib inline"
   ]
  },
  {
   "cell_type": "code",
   "execution_count": 6,
   "metadata": {},
   "outputs": [
    {
     "name": "stdout",
     "output_type": "stream",
     "text": [
      "8.2G\tdata/weather-big/2014-01-01.hdf5\r\n",
      "8.2G\tdata/weather-big/2014-01-02.hdf5\r\n",
      "8.2G\tdata/weather-big/2014-01-03.hdf5\r\n",
      "8.2G\tdata/weather-big/2014-01-04.hdf5\r\n",
      "8.2G\tdata/weather-big/2014-01-05.hdf5\r\n",
      "8.2G\tdata/weather-big/2014-01-06.hdf5\r\n",
      "8.2G\tdata/weather-big/2014-01-07.hdf5\r\n",
      "8.2G\tdata/weather-big/2014-01-08.hdf5\r\n",
      "8.2G\tdata/weather-big/2014-01-09.hdf5\r\n",
      "8.2G\tdata/weather-big/2014-01-10.hdf5\r\n",
      "8.2G\tdata/weather-big/2014-01-11.hdf5\r\n",
      "8.2G\tdata/weather-big/2014-01-12.hdf5\r\n",
      "8.2G\tdata/weather-big/2014-01-13.hdf5\r\n",
      "8.2G\tdata/weather-big/2014-01-14.hdf5\r\n",
      "8.2G\tdata/weather-big/2014-01-15.hdf5\r\n",
      "8.2G\tdata/weather-big/2014-01-16.hdf5\r\n",
      "8.2G\tdata/weather-big/2014-01-17.hdf5\r\n",
      "8.2G\tdata/weather-big/2014-01-18.hdf5\r\n",
      "8.2G\tdata/weather-big/2014-01-19.hdf5\r\n",
      "8.2G\tdata/weather-big/2014-01-20.hdf5\r\n",
      "8.2G\tdata/weather-big/2014-01-21.hdf5\r\n",
      "8.2G\tdata/weather-big/2014-01-22.hdf5\r\n",
      "8.2G\tdata/weather-big/2014-01-23.hdf5\r\n",
      "8.2G\tdata/weather-big/2014-01-24.hdf5\r\n",
      "8.2G\tdata/weather-big/2014-01-25.hdf5\r\n",
      "8.2G\tdata/weather-big/2014-01-26.hdf5\r\n",
      "8.2G\tdata/weather-big/2014-01-27.hdf5\r\n",
      "8.2G\tdata/weather-big/2014-01-28.hdf5\r\n",
      "8.2G\tdata/weather-big/2014-01-29.hdf5\r\n",
      "8.2G\tdata/weather-big/2014-01-30.hdf5\r\n",
      "8.2G\tdata/weather-big/2014-01-31.hdf5\r\n"
     ]
    }
   ],
   "source": [
    "!du -h data/weather-big/*"
   ]
  },
  {
   "cell_type": "code",
   "execution_count": null,
   "metadata": {
    "collapsed": true
   },
   "outputs": [],
   "source": [
    "!du -h data/weather-small/2014-01-01.csv"
   ]
  },
  {
   "cell_type": "code",
   "execution_count": null,
   "metadata": {
    "collapsed": true
   },
   "outputs": [],
   "source": [
    "!du -h data/weather-small/2014-01-01.hdf5"
   ]
  },
  {
   "cell_type": "code",
   "execution_count": null,
   "metadata": {
    "collapsed": true
   },
   "outputs": [],
   "source": [
    "%timeit temps = np.loadtxt('data/weather-small/2014-01-01.csv', delimiter=',')"
   ]
  },
  {
   "cell_type": "code",
   "execution_count": null,
   "metadata": {
    "collapsed": true
   },
   "outputs": [],
   "source": [
    "%timeit temps = h5py.File('data/weather-small/2014-01-02.hdf5')['/t2m'][...]"
   ]
  },
  {
   "cell_type": "code",
   "execution_count": 9,
   "metadata": {
    "collapsed": true
   },
   "outputs": [],
   "source": [
    "dset = h5py.File('data/weather-big/2014-01-01.hdf5')['/t2m']"
   ]
  },
  {
   "cell_type": "code",
   "execution_count": 10,
   "metadata": {},
   "outputs": [
    {
     "name": "stdout",
     "output_type": "stream",
     "text": [
      "<HDF5 dataset \"t2m\": shape (23040, 46080), type \"<f8\">\n"
     ]
    }
   ],
   "source": [
    "print(dset)"
   ]
  },
  {
   "cell_type": "code",
   "execution_count": 11,
   "metadata": {
    "collapsed": true
   },
   "outputs": [],
   "source": [
    "temps = dset[...] # gets numpy array from HDF5 dataset"
   ]
  },
  {
   "cell_type": "code",
   "execution_count": 12,
   "metadata": {},
   "outputs": [
    {
     "data": {
      "text/plain": [
       "(23040, 46080)"
      ]
     },
     "execution_count": 12,
     "metadata": {},
     "output_type": "execute_result"
    }
   ],
   "source": [
    "temps.shape"
   ]
  },
  {
   "cell_type": "code",
   "execution_count": 13,
   "metadata": {
    "collapsed": true
   },
   "outputs": [],
   "source": [
    "temps_da = da.from_array(temps, chunks=(5000, 5000)) # gets a dask array from NumPy array"
   ]
  },
  {
   "cell_type": "code",
   "execution_count": 14,
   "metadata": {},
   "outputs": [
    {
     "name": "stdout",
     "output_type": "stream",
     "text": [
      "dask.array<array, shape=(23040, 46080), dtype=float64, chunksize=(5000, 5000)>\n"
     ]
    }
   ],
   "source": [
    "print(temps_da)"
   ]
  },
  {
   "cell_type": "code",
   "execution_count": 15,
   "metadata": {},
   "outputs": [
    {
     "name": "stdout",
     "output_type": "stream",
     "text": [
      "(23040, 46080)\n"
     ]
    }
   ],
   "source": [
    "print(temps_da.shape)"
   ]
  },
  {
   "cell_type": "code",
   "execution_count": 21,
   "metadata": {
    "collapsed": true
   },
   "outputs": [],
   "source": [
    "def center(data):\n",
    "    return data - data.mean()"
   ]
  },
  {
   "cell_type": "code",
   "execution_count": 22,
   "metadata": {
    "collapsed": true
   },
   "outputs": [],
   "source": [
    "t1 = timeit.default_timer()\n",
    "centered_temps = center(temps)\n",
    "t2 = timeit.default_timer()"
   ]
  },
  {
   "cell_type": "code",
   "execution_count": 20,
   "metadata": {},
   "outputs": [
    {
     "name": "stdout",
     "output_type": "stream",
     "text": [
      "13.498517160012852\n"
     ]
    }
   ],
   "source": [
    "print(t2-t1)"
   ]
  },
  {
   "cell_type": "code",
   "execution_count": 23,
   "metadata": {
    "collapsed": true
   },
   "outputs": [],
   "source": [
    "result = center(temps_da)\n",
    "t1 = timeit.default_timer()\n",
    "centered_temps = result.compute(get=dask.threaded.get)\n",
    "t2 = timeit.default_timer()"
   ]
  },
  {
   "cell_type": "code",
   "execution_count": 24,
   "metadata": {},
   "outputs": [
    {
     "name": "stdout",
     "output_type": "stream",
     "text": [
      "4.907631672977004\n"
     ]
    }
   ],
   "source": [
    "print(t2-t1)"
   ]
  },
  {
   "cell_type": "markdown",
   "metadata": {},
   "source": [
    "We can get away with plotting a smaller array:"
   ]
  },
  {
   "cell_type": "code",
   "execution_count": 25,
   "metadata": {},
   "outputs": [
    {
     "data": {
      "text/plain": [
       "<matplotlib.colorbar.Colorbar at 0x2b552ed55630>"
      ]
     },
     "execution_count": 25,
     "metadata": {},
     "output_type": "execute_result"
    },
    {
     "data": {
      "image/png": "[encoded data removed]",
      "text/plain": [
       "<matplotlib.figure.Figure at 0x2b52eb8e2208>"
      ]
     },
     "metadata": {},
     "output_type": "display_data"
    }
   ],
   "source": [
    "plt.imshow(centered_temps[::100, ::100])\n",
    "plt.colorbar()"
   ]
  },
  {
   "cell_type": "markdown",
   "metadata": {},
   "source": [
    "## Using dask.delayed for embarrassingly parallel work"
   ]
  },
  {
   "cell_type": "code",
   "execution_count": 46,
   "metadata": {
    "collapsed": true
   },
   "outputs": [],
   "source": [
    "from dask import delayed\n",
    "import dask.multiprocessing\n",
    "\n",
    "@delayed\n",
    "def mean_temp(filename):\n",
    "    dset = h5py.File(filename)['/t2m']\n",
    "    temps = dset[...]\n",
    "    return temps.mean()"
   ]
  },
  {
   "cell_type": "code",
   "execution_count": 47,
   "metadata": {
    "collapsed": true
   },
   "outputs": [],
   "source": [
    "results = [mean_temp(filename) for filename in glob.glob('data/weather-medium/*.hdf5')]"
   ]
  },
  {
   "cell_type": "code",
   "execution_count": 48,
   "metadata": {},
   "outputs": [
    {
     "name": "stdout",
     "output_type": "stream",
     "text": [
      "[Delayed('mean_temp-f9cd9e17-6609-4f91-9c26-c6dae9d14171'), Delayed('mean_temp-02b49cf2-d8ad-4cce-98ec-d4cf9936317d'), Delayed('mean_temp-3c66929a-c7f8-4cb5-b994-6131e99d195a'), Delayed('mean_temp-4defe33f-53f8-4da0-82c2-4c4d3e7fcc0e'), Delayed('mean_temp-2aa751e3-bda2-48d7-abdf-081bc0bd589f'), Delayed('mean_temp-2dc47605-a992-499c-9462-bc0a1dfbdbda'), Delayed('mean_temp-05ee72f6-29ce-4a5d-be24-4e36f894fc69'), Delayed('mean_temp-f20ff776-0480-466a-8944-f90be8cda09c'), Delayed('mean_temp-ea45255e-8da3-4e9e-8c2a-8a364b0c970e'), Delayed('mean_temp-1b9e9f1b-ca7e-469b-a2e1-3de3dd997af6'), Delayed('mean_temp-1817c801-825c-4a0a-8b2f-bc838474360d'), Delayed('mean_temp-361cadd4-49b2-44fc-a01e-dd35239b1910'), Delayed('mean_temp-1ddb8db3-7cc5-4373-9cfc-da24d2a0d574'), Delayed('mean_temp-9969b8b9-d99f-44b2-8470-3341be049f42'), Delayed('mean_temp-016c417d-b38e-421f-a006-4e2b7bf4e48c'), Delayed('mean_temp-6ff749a1-d2af-4e74-bb5a-5d75dd6237f7'), Delayed('mean_temp-c166b7b9-bf60-4f15-999e-3c4685bcea8f'), Delayed('mean_temp-4b6c87bf-3214-419a-af43-339dac50a60c'), Delayed('mean_temp-1a578b40-193b-47d4-baca-268b4d76f99c'), Delayed('mean_temp-cc39edf5-1463-485f-8cba-d4965ec16be7'), Delayed('mean_temp-a9a13e00-2c58-4372-a519-70466fbdff40'), Delayed('mean_temp-03b8f35e-8b76-48c0-94c0-7a28a61274f5'), Delayed('mean_temp-4932ac4d-abd6-4bd1-8fca-d371c863863a'), Delayed('mean_temp-915f7e4c-93a7-4a91-aaf7-5e7750f7d58f'), Delayed('mean_temp-3bd7aa3b-d2c6-4ed9-83e0-41714f605c84'), Delayed('mean_temp-9deefbdd-f0f2-4556-bde3-0c63355b9c9f'), Delayed('mean_temp-5304ebc4-b030-4f31-a8a6-7df1e839c801'), Delayed('mean_temp-14eceae7-c398-4bf2-96b8-a80ca5234b7a'), Delayed('mean_temp-797d25f9-eec8-482d-84c1-28669169be78'), Delayed('mean_temp-b5ead0c7-f1de-40d8-a4cc-6178926edebd'), Delayed('mean_temp-3f26f3dc-bb9c-4341-92ff-7b37c3f35d11')]\n"
     ]
    }
   ],
   "source": [
    "print(results)"
   ]
  },
  {
   "cell_type": "code",
   "execution_count": 54,
   "metadata": {},
   "outputs": [
    {
     "data": {
      "text/plain": [
       "(157.04536699459877,\n",
       " 154.54002483603395,\n",
       " 160.81113281250001,\n",
       " 159.86300877700617,\n",
       " 165.08843967013888,\n",
       " 168.8551511863426,\n",
       " 163.73963324652777,\n",
       " 169.25500602816359,\n",
       " 167.93880256558643,\n",
       " 166.51512659143518,\n",
       " 163.77134018132716,\n",
       " 161.4648955922068,\n",
       " 158.83167438271605,\n",
       " 157.45291546103394,\n",
       " 159.00699266975309,\n",
       " 159.88063970871914,\n",
       " 162.47138189621913,\n",
       " 162.81344762731482,\n",
       " 160.52553433641975,\n",
       " 165.76992645640433,\n",
       " 167.28410855516975,\n",
       " 168.03736014660493,\n",
       " 166.18571855709877,\n",
       " 163.23281635802468,\n",
       " 168.09411627121915,\n",
       " 168.20748963155864,\n",
       " 166.43696518132717,\n",
       " 167.64012707368826,\n",
       " 169.33892336998457,\n",
       " 169.38287760416668,\n",
       " 163.98587191358024)"
      ]
     },
     "execution_count": 54,
     "metadata": {},
     "output_type": "execute_result"
    }
   ],
   "source": [
    "da.compute(*results, get=dask.multiprocessing.get)"
   ]
  },
  {
   "cell_type": "code",
   "execution_count": null,
   "metadata": {
    "collapsed": true
   },
   "outputs": [],
   "source": []
  }
 ],
 "metadata": {
  "kernelspec": {
   "display_name": "High Performance Python workshop",
   "language": "python",
   "name": "hpp-workshop"
  },
  "language_info": {
   "codemirror_mode": {
    "name": "ipython",
    "version": 3
   },
   "file_extension": ".py",
   "mimetype": "text/x-python",
   "name": "python",
   "nbconvert_exporter": "python",
   "pygments_lexer": "ipython3",
   "version": "3.5.4"
  }
 },
 "nbformat": 4,
 "nbformat_minor": 2
}
